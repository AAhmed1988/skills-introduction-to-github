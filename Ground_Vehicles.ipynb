{
  "nbformat": 4,
  "nbformat_minor": 0,
  "metadata": {
    "colab": {
      "provenance": [],
      "include_colab_link": true
    },
    "kernelspec": {
      "name": "python3",
      "display_name": "Python 3"
    },
    "language_info": {
      "name": "python"
    }
  },
  "cells": [
    {
      "cell_type": "markdown",
      "metadata": {
        "id": "view-in-github",
        "colab_type": "text"
      },
      "source": [
        "<a href=\"https://colab.research.google.com/github/AAhmed1988/skills-introduction-to-github/blob/main/Ground_Vehicles.ipynb\" target=\"_parent\"><img src=\"https://colab.research.google.com/assets/colab-badge.svg\" alt=\"Open In Colab\"/></a>"
      ]
    },
    {
      "cell_type": "code",
      "source": [
        "import pandas as pd"
      ],
      "metadata": {
        "id": "rxzM-j1eXf60"
      },
      "execution_count": null,
      "outputs": []
    },
    {
      "cell_type": "code",
      "source": [
        "ground_vehicles = pd.read_csv('https://docs.google.com/spreadsheets/d/1IOoH2UA38KnbOpOmw_OSLK-_ZllKw_IK/export?format=csv')"
      ],
      "metadata": {
        "id": "a-w7OHgrXj9Z"
      },
      "execution_count": null,
      "outputs": []
    },
    {
      "cell_type": "code",
      "source": [
        "#Begin examining data by looking at the first few rows\n",
        "display(ground_vehicles.head())"
      ],
      "metadata": {
        "colab": {
          "base_uri": "https://localhost:8080/",
          "height": 530
        },
        "id": "-1x2WeoKZdDs",
        "outputId": "43268149-447c-476c-9f53-00b863c4d322",
        "collapsed": true
      },
      "execution_count": null,
      "outputs": [
        {
          "output_type": "display_data",
          "data": {
            "text/plain": [
              "          ID Contract Number (IDVPIID) Award Number (PIID)  \\\n",
              "0  261901205                       NaN       SPE4A616M0117   \n",
              "1  261915422                       NaN        VA26014P1360   \n",
              "2  261916094                       NaN        VA25912C0281   \n",
              "3  261919276                       NaN        VA25115C0125   \n",
              "4  261919325                       NaN        VA25114C0139   \n",
              "\n",
              "  Modification Number  Fiscal Year  \\\n",
              "0                 NaN         2016   \n",
              "1              P00003         2016   \n",
              "2              P00004         2016   \n",
              "3              P00001         2016   \n",
              "4              P00001         2016   \n",
              "\n",
              "                                               Title  Awarded Amount  \\\n",
              "0                                BEARING,PLAIN,SPHER             NaN   \n",
              "1  PREVENTATIVE MAINTENANCE SERVICES ON NEPTUNE U...        25990.00   \n",
              "2  IGF::CT::IGF STRYKER SERVICE PLAN FOR VA FORT ...        13053.38   \n",
              "3  IGF::OT::IGF MAINTENANCE OF PATIENT BEDS OPTIO...        16356.00   \n",
              "4  IGF::OT::IGF MAINTENANCE OF STRYKER NAV II SYSTEM        68023.62   \n",
              "\n",
              "                                  Contracting Office  \\\n",
              "0  DLA Aviation (formerly Defense Supply Center R...   \n",
              "1                         VISN 20: Northwest Network   \n",
              "2                    VISN 19: Rocky Mountain Network   \n",
              "3                     VA Ann Arbor Healthcare System   \n",
              "4                     VA Ann Arbor Healthcare System   \n",
              "\n",
              "                       Contracting Agency Place of Performance State  \\\n",
              "0          US Department of Defense (DoD)                        NaN   \n",
              "1  US Department of Veterans Affairs (VA)                         OR   \n",
              "2  US Department of Veterans Affairs (VA)                         MI   \n",
              "3  US Department of Veterans Affairs (VA)                         MI   \n",
              "4  US Department of Veterans Affairs (VA)                         MI   \n",
              "\n",
              "  Place of Performance City                          Vendor  Name  \\\n",
              "0                       NaN  Longhorn Regional Service Center LLC   \n",
              "1                  Portland                   Stryker Corporation   \n",
              "2                   Portage                   Stryker Corporation   \n",
              "3                 Ann Arbor             Imaging Diagnostics, Inc.   \n",
              "4                 Ann Arbor                   Stryker Corporation   \n",
              "\n",
              "                       Vendor  Top Name  \\\n",
              "0  Longhorn Regional Service Center LLC   \n",
              "1                   Stryker Corporation   \n",
              "2                   Stryker Corporation   \n",
              "3             Imaging Diagnostics, Inc.   \n",
              "4                   Stryker Corporation   \n",
              "\n",
              "                                            PSC Name  \n",
              "0                                      (31) BEARINGS  \n",
              "1  (J065) MAINT/REPAIR/REBUILD OF EQUIPMENT- MEDI...  \n",
              "2  (J065) MAINT/REPAIR/REBUILD OF EQUIPMENT- MEDI...  \n",
              "3  (J065) MAINT/REPAIR/REBUILD OF EQUIPMENT- MEDI...  \n",
              "4  (J065) MAINT/REPAIR/REBUILD OF EQUIPMENT- MEDI...  "
            ],
            "text/html": [
              "\n",
              "  <div id=\"df-1fcb8b2a-f183-4abd-9de0-8c7c62a47e0e\" class=\"colab-df-container\">\n",
              "    <div>\n",
              "<style scoped>\n",
              "    .dataframe tbody tr th:only-of-type {\n",
              "        vertical-align: middle;\n",
              "    }\n",
              "\n",
              "    .dataframe tbody tr th {\n",
              "        vertical-align: top;\n",
              "    }\n",
              "\n",
              "    .dataframe thead th {\n",
              "        text-align: right;\n",
              "    }\n",
              "</style>\n",
              "<table border=\"1\" class=\"dataframe\">\n",
              "  <thead>\n",
              "    <tr style=\"text-align: right;\">\n",
              "      <th></th>\n",
              "      <th>ID</th>\n",
              "      <th>Contract Number (IDVPIID)</th>\n",
              "      <th>Award Number (PIID)</th>\n",
              "      <th>Modification Number</th>\n",
              "      <th>Fiscal Year</th>\n",
              "      <th>Title</th>\n",
              "      <th>Awarded Amount</th>\n",
              "      <th>Contracting Office</th>\n",
              "      <th>Contracting Agency</th>\n",
              "      <th>Place of Performance State</th>\n",
              "      <th>Place of Performance City</th>\n",
              "      <th>Vendor  Name</th>\n",
              "      <th>Vendor  Top Name</th>\n",
              "      <th>PSC Name</th>\n",
              "    </tr>\n",
              "  </thead>\n",
              "  <tbody>\n",
              "    <tr>\n",
              "      <th>0</th>\n",
              "      <td>261901205</td>\n",
              "      <td>NaN</td>\n",
              "      <td>SPE4A616M0117</td>\n",
              "      <td>NaN</td>\n",
              "      <td>2016</td>\n",
              "      <td>BEARING,PLAIN,SPHER</td>\n",
              "      <td>NaN</td>\n",
              "      <td>DLA Aviation (formerly Defense Supply Center R...</td>\n",
              "      <td>US Department of Defense (DoD)</td>\n",
              "      <td>NaN</td>\n",
              "      <td>NaN</td>\n",
              "      <td>Longhorn Regional Service Center LLC</td>\n",
              "      <td>Longhorn Regional Service Center LLC</td>\n",
              "      <td>(31) BEARINGS</td>\n",
              "    </tr>\n",
              "    <tr>\n",
              "      <th>1</th>\n",
              "      <td>261915422</td>\n",
              "      <td>NaN</td>\n",
              "      <td>VA26014P1360</td>\n",
              "      <td>P00003</td>\n",
              "      <td>2016</td>\n",
              "      <td>PREVENTATIVE MAINTENANCE SERVICES ON NEPTUNE U...</td>\n",
              "      <td>25990.00</td>\n",
              "      <td>VISN 20: Northwest Network</td>\n",
              "      <td>US Department of Veterans Affairs (VA)</td>\n",
              "      <td>OR</td>\n",
              "      <td>Portland</td>\n",
              "      <td>Stryker Corporation</td>\n",
              "      <td>Stryker Corporation</td>\n",
              "      <td>(J065) MAINT/REPAIR/REBUILD OF EQUIPMENT- MEDI...</td>\n",
              "    </tr>\n",
              "    <tr>\n",
              "      <th>2</th>\n",
              "      <td>261916094</td>\n",
              "      <td>NaN</td>\n",
              "      <td>VA25912C0281</td>\n",
              "      <td>P00004</td>\n",
              "      <td>2016</td>\n",
              "      <td>IGF::CT::IGF STRYKER SERVICE PLAN FOR VA FORT ...</td>\n",
              "      <td>13053.38</td>\n",
              "      <td>VISN 19: Rocky Mountain Network</td>\n",
              "      <td>US Department of Veterans Affairs (VA)</td>\n",
              "      <td>MI</td>\n",
              "      <td>Portage</td>\n",
              "      <td>Stryker Corporation</td>\n",
              "      <td>Stryker Corporation</td>\n",
              "      <td>(J065) MAINT/REPAIR/REBUILD OF EQUIPMENT- MEDI...</td>\n",
              "    </tr>\n",
              "    <tr>\n",
              "      <th>3</th>\n",
              "      <td>261919276</td>\n",
              "      <td>NaN</td>\n",
              "      <td>VA25115C0125</td>\n",
              "      <td>P00001</td>\n",
              "      <td>2016</td>\n",
              "      <td>IGF::OT::IGF MAINTENANCE OF PATIENT BEDS OPTIO...</td>\n",
              "      <td>16356.00</td>\n",
              "      <td>VA Ann Arbor Healthcare System</td>\n",
              "      <td>US Department of Veterans Affairs (VA)</td>\n",
              "      <td>MI</td>\n",
              "      <td>Ann Arbor</td>\n",
              "      <td>Imaging Diagnostics, Inc.</td>\n",
              "      <td>Imaging Diagnostics, Inc.</td>\n",
              "      <td>(J065) MAINT/REPAIR/REBUILD OF EQUIPMENT- MEDI...</td>\n",
              "    </tr>\n",
              "    <tr>\n",
              "      <th>4</th>\n",
              "      <td>261919325</td>\n",
              "      <td>NaN</td>\n",
              "      <td>VA25114C0139</td>\n",
              "      <td>P00001</td>\n",
              "      <td>2016</td>\n",
              "      <td>IGF::OT::IGF MAINTENANCE OF STRYKER NAV II SYSTEM</td>\n",
              "      <td>68023.62</td>\n",
              "      <td>VA Ann Arbor Healthcare System</td>\n",
              "      <td>US Department of Veterans Affairs (VA)</td>\n",
              "      <td>MI</td>\n",
              "      <td>Ann Arbor</td>\n",
              "      <td>Stryker Corporation</td>\n",
              "      <td>Stryker Corporation</td>\n",
              "      <td>(J065) MAINT/REPAIR/REBUILD OF EQUIPMENT- MEDI...</td>\n",
              "    </tr>\n",
              "  </tbody>\n",
              "</table>\n",
              "</div>\n",
              "    <div class=\"colab-df-buttons\">\n",
              "\n",
              "  <div class=\"colab-df-container\">\n",
              "    <button class=\"colab-df-convert\" onclick=\"convertToInteractive('df-1fcb8b2a-f183-4abd-9de0-8c7c62a47e0e')\"\n",
              "            title=\"Convert this dataframe to an interactive table.\"\n",
              "            style=\"display:none;\">\n",
              "\n",
              "  <svg xmlns=\"http://www.w3.org/2000/svg\" height=\"24px\" viewBox=\"0 -960 960 960\">\n",
              "    <path d=\"M120-120v-720h720v720H120Zm60-500h600v-160H180v160Zm220 220h160v-160H400v160Zm0 220h160v-160H400v160ZM180-400h160v-160H180v160Zm440 0h160v-160H620v160ZM180-180h160v-160H180v160Zm440 0h160v-160H620v160Z\"/>\n",
              "  </svg>\n",
              "    </button>\n",
              "\n",
              "  <style>\n",
              "    .colab-df-container {\n",
              "      display:flex;\n",
              "      gap: 12px;\n",
              "    }\n",
              "\n",
              "    .colab-df-convert {\n",
              "      background-color: #E8F0FE;\n",
              "      border: none;\n",
              "      border-radius: 50%;\n",
              "      cursor: pointer;\n",
              "      display: none;\n",
              "      fill: #1967D2;\n",
              "      height: 32px;\n",
              "      padding: 0 0 0 0;\n",
              "      width: 32px;\n",
              "    }\n",
              "\n",
              "    .colab-df-convert:hover {\n",
              "      background-color: #E2EBFA;\n",
              "      box-shadow: 0px 1px 2px rgba(60, 64, 67, 0.3), 0px 1px 3px 1px rgba(60, 64, 67, 0.15);\n",
              "      fill: #174EA6;\n",
              "    }\n",
              "\n",
              "    .colab-df-buttons div {\n",
              "      margin-bottom: 4px;\n",
              "    }\n",
              "\n",
              "    [theme=dark] .colab-df-convert {\n",
              "      background-color: #3B4455;\n",
              "      fill: #D2E3FC;\n",
              "    }\n",
              "\n",
              "    [theme=dark] .colab-df-convert:hover {\n",
              "      background-color: #434B5C;\n",
              "      box-shadow: 0px 1px 3px 1px rgba(0, 0, 0, 0.15);\n",
              "      filter: drop-shadow(0px 1px 2px rgba(0, 0, 0, 0.3));\n",
              "      fill: #FFFFFF;\n",
              "    }\n",
              "  </style>\n",
              "\n",
              "    <script>\n",
              "      const buttonEl =\n",
              "        document.querySelector('#df-1fcb8b2a-f183-4abd-9de0-8c7c62a47e0e button.colab-df-convert');\n",
              "      buttonEl.style.display =\n",
              "        google.colab.kernel.accessAllowed ? 'block' : 'none';\n",
              "\n",
              "      async function convertToInteractive(key) {\n",
              "        const element = document.querySelector('#df-1fcb8b2a-f183-4abd-9de0-8c7c62a47e0e');\n",
              "        const dataTable =\n",
              "          await google.colab.kernel.invokeFunction('convertToInteractive',\n",
              "                                                    [key], {});\n",
              "        if (!dataTable) return;\n",
              "\n",
              "        const docLinkHtml = 'Like what you see? Visit the ' +\n",
              "          '<a target=\"_blank\" href=https://colab.research.google.com/notebooks/data_table.ipynb>data table notebook</a>'\n",
              "          + ' to learn more about interactive tables.';\n",
              "        element.innerHTML = '';\n",
              "        dataTable['output_type'] = 'display_data';\n",
              "        await google.colab.output.renderOutput(dataTable, element);\n",
              "        const docLink = document.createElement('div');\n",
              "        docLink.innerHTML = docLinkHtml;\n",
              "        element.appendChild(docLink);\n",
              "      }\n",
              "    </script>\n",
              "  </div>\n",
              "\n",
              "\n",
              "<div id=\"df-1e9941bf-e85f-46e9-b320-ac4a9e98309b\">\n",
              "  <button class=\"colab-df-quickchart\" onclick=\"quickchart('df-1e9941bf-e85f-46e9-b320-ac4a9e98309b')\"\n",
              "            title=\"Suggest charts\"\n",
              "            style=\"display:none;\">\n",
              "\n",
              "<svg xmlns=\"http://www.w3.org/2000/svg\" height=\"24px\"viewBox=\"0 0 24 24\"\n",
              "     width=\"24px\">\n",
              "    <g>\n",
              "        <path d=\"M19 3H5c-1.1 0-2 .9-2 2v14c0 1.1.9 2 2 2h14c1.1 0 2-.9 2-2V5c0-1.1-.9-2-2-2zM9 17H7v-7h2v7zm4 0h-2V7h2v10zm4 0h-2v-4h2v4z\"/>\n",
              "    </g>\n",
              "</svg>\n",
              "  </button>\n",
              "\n",
              "<style>\n",
              "  .colab-df-quickchart {\n",
              "      --bg-color: #E8F0FE;\n",
              "      --fill-color: #1967D2;\n",
              "      --hover-bg-color: #E2EBFA;\n",
              "      --hover-fill-color: #174EA6;\n",
              "      --disabled-fill-color: #AAA;\n",
              "      --disabled-bg-color: #DDD;\n",
              "  }\n",
              "\n",
              "  [theme=dark] .colab-df-quickchart {\n",
              "      --bg-color: #3B4455;\n",
              "      --fill-color: #D2E3FC;\n",
              "      --hover-bg-color: #434B5C;\n",
              "      --hover-fill-color: #FFFFFF;\n",
              "      --disabled-bg-color: #3B4455;\n",
              "      --disabled-fill-color: #666;\n",
              "  }\n",
              "\n",
              "  .colab-df-quickchart {\n",
              "    background-color: var(--bg-color);\n",
              "    border: none;\n",
              "    border-radius: 50%;\n",
              "    cursor: pointer;\n",
              "    display: none;\n",
              "    fill: var(--fill-color);\n",
              "    height: 32px;\n",
              "    padding: 0;\n",
              "    width: 32px;\n",
              "  }\n",
              "\n",
              "  .colab-df-quickchart:hover {\n",
              "    background-color: var(--hover-bg-color);\n",
              "    box-shadow: 0 1px 2px rgba(60, 64, 67, 0.3), 0 1px 3px 1px rgba(60, 64, 67, 0.15);\n",
              "    fill: var(--button-hover-fill-color);\n",
              "  }\n",
              "\n",
              "  .colab-df-quickchart-complete:disabled,\n",
              "  .colab-df-quickchart-complete:disabled:hover {\n",
              "    background-color: var(--disabled-bg-color);\n",
              "    fill: var(--disabled-fill-color);\n",
              "    box-shadow: none;\n",
              "  }\n",
              "\n",
              "  .colab-df-spinner {\n",
              "    border: 2px solid var(--fill-color);\n",
              "    border-color: transparent;\n",
              "    border-bottom-color: var(--fill-color);\n",
              "    animation:\n",
              "      spin 1s steps(1) infinite;\n",
              "  }\n",
              "\n",
              "  @keyframes spin {\n",
              "    0% {\n",
              "      border-color: transparent;\n",
              "      border-bottom-color: var(--fill-color);\n",
              "      border-left-color: var(--fill-color);\n",
              "    }\n",
              "    20% {\n",
              "      border-color: transparent;\n",
              "      border-left-color: var(--fill-color);\n",
              "      border-top-color: var(--fill-color);\n",
              "    }\n",
              "    30% {\n",
              "      border-color: transparent;\n",
              "      border-left-color: var(--fill-color);\n",
              "      border-top-color: var(--fill-color);\n",
              "      border-right-color: var(--fill-color);\n",
              "    }\n",
              "    40% {\n",
              "      border-color: transparent;\n",
              "      border-right-color: var(--fill-color);\n",
              "      border-top-color: var(--fill-color);\n",
              "    }\n",
              "    60% {\n",
              "      border-color: transparent;\n",
              "      border-right-color: var(--fill-color);\n",
              "    }\n",
              "    80% {\n",
              "      border-color: transparent;\n",
              "      border-right-color: var(--fill-color);\n",
              "      border-bottom-color: var(--fill-color);\n",
              "    }\n",
              "    90% {\n",
              "      border-color: transparent;\n",
              "      border-bottom-color: var(--fill-color);\n",
              "    }\n",
              "  }\n",
              "</style>\n",
              "\n",
              "  <script>\n",
              "    async function quickchart(key) {\n",
              "      const quickchartButtonEl =\n",
              "        document.querySelector('#' + key + ' button');\n",
              "      quickchartButtonEl.disabled = true;  // To prevent multiple clicks.\n",
              "      quickchartButtonEl.classList.add('colab-df-spinner');\n",
              "      try {\n",
              "        const charts = await google.colab.kernel.invokeFunction(\n",
              "            'suggestCharts', [key], {});\n",
              "      } catch (error) {\n",
              "        console.error('Error during call to suggestCharts:', error);\n",
              "      }\n",
              "      quickchartButtonEl.classList.remove('colab-df-spinner');\n",
              "      quickchartButtonEl.classList.add('colab-df-quickchart-complete');\n",
              "    }\n",
              "    (() => {\n",
              "      let quickchartButtonEl =\n",
              "        document.querySelector('#df-1e9941bf-e85f-46e9-b320-ac4a9e98309b button');\n",
              "      quickchartButtonEl.style.display =\n",
              "        google.colab.kernel.accessAllowed ? 'block' : 'none';\n",
              "    })();\n",
              "  </script>\n",
              "</div>\n",
              "\n",
              "    </div>\n",
              "  </div>\n"
            ],
            "application/vnd.google.colaboratory.intrinsic+json": {
              "type": "dataframe",
              "repr_error": "Out of range float values are not JSON compliant: nan"
            }
          },
          "metadata": {}
        }
      ]
    },
    {
      "cell_type": "code",
      "source": [
        "#Look at last few rows as comparision\n",
        "display(ground_vehicles.tail())"
      ],
      "metadata": {
        "colab": {
          "base_uri": "https://localhost:8080/",
          "height": 649
        },
        "id": "E2hj_Hz2b2TZ",
        "outputId": "312f28a4-7dc5-4ca4-d4a6-a8bb3ee77db9",
        "collapsed": true
      },
      "execution_count": null,
      "outputs": [
        {
          "output_type": "display_data",
          "data": {
            "text/plain": [
              "              ID Contract Number (IDVPIID) Award Number (PIID)  \\\n",
              "54374  676404110                       NaN       FA489017C0005   \n",
              "54375  676404111                       NaN       FA489017C0005   \n",
              "54376  676404112                       NaN       FA489017C0005   \n",
              "54377  676547655                       NaN      75H71221C00019   \n",
              "54378  676554198             36F79721D0021       36C24821N1079   \n",
              "\n",
              "      Modification Number  Fiscal Year  \\\n",
              "54374              P00046         2021   \n",
              "54375              P00046         2021   \n",
              "54376              P00046         2021   \n",
              "54377                   0         2021   \n",
              "54378                   0         2021   \n",
              "\n",
              "                                                   Title  Awarded Amount  \\\n",
              "54374  PROGRAM MANAGEMENT SUPPORT- ALL ACTIVITIES REQ...            0.00   \n",
              "54375  WAR RESERVE MATERIEL - FUNDING ONLY ACTION (FU...      2563626.87   \n",
              "54376  WAR RESERVE MATERIEL - FUNDING ONLY ACTION (FU...            0.00   \n",
              "54377  PROVIDE RENTAL OR LEASE OF ENDOSCOPIC VIDEO TO...       226322.40   \n",
              "54378        EBB LSV 5 PASSENGER STRETCHER PO: 672A10096        26000.00   \n",
              "\n",
              "                           Contracting Office  \\\n",
              "54374          US Department of the Air Force   \n",
              "54375          US Department of the Air Force   \n",
              "54376          US Department of the Air Force   \n",
              "54377               IHS - Phoenix Area Office   \n",
              "54378  US Department of Veterans Affairs (VA)   \n",
              "\n",
              "                                     Contracting Agency  \\\n",
              "54374                    US Department of Defense (DoD)   \n",
              "54375                    US Department of Defense (DoD)   \n",
              "54376                    US Department of Defense (DoD)   \n",
              "54377  US Department of Health and Human Services (HHS)   \n",
              "54378            US Department of Veterans Affairs (VA)   \n",
              "\n",
              "      Place of Performance State Place of Performance City  \\\n",
              "54374                         SC                  Shaw AFB   \n",
              "54375                         SC                  Shaw AFB   \n",
              "54376                         SC                  Shaw AFB   \n",
              "54377                         AZ                   Phoenix   \n",
              "54378                         MI                   Portage   \n",
              "\n",
              "                    Vendor  Name                          Vendor  Top Name  \\\n",
              "54374  Dyncorp International LLC  Amentum Government Services Holdings LLC   \n",
              "54375  Dyncorp International LLC  Amentum Government Services Holdings LLC   \n",
              "54376  Dyncorp International LLC  Amentum Government Services Holdings LLC   \n",
              "54377         Stryker Sales, LLC                       Stryker Corporation   \n",
              "54378        Stryker Corporation                       Stryker Corporation   \n",
              "\n",
              "                                                PSC Name  \n",
              "54374      (M1GZ) OPERATION OF OTHER WAREHOUSE BUILDINGS  \n",
              "54375      (M1GZ) OPERATION OF OTHER WAREHOUSE BUILDINGS  \n",
              "54376      (M1GZ) OPERATION OF OTHER WAREHOUSE BUILDINGS  \n",
              "54377                                                NaN  \n",
              "54378  (6515) MEDICAL AND SURGICAL INSTRUMENTS, EQUIP...  "
            ],
            "text/html": [
              "\n",
              "  <div id=\"df-876356c8-daf2-472a-8441-e3c319621011\" class=\"colab-df-container\">\n",
              "    <div>\n",
              "<style scoped>\n",
              "    .dataframe tbody tr th:only-of-type {\n",
              "        vertical-align: middle;\n",
              "    }\n",
              "\n",
              "    .dataframe tbody tr th {\n",
              "        vertical-align: top;\n",
              "    }\n",
              "\n",
              "    .dataframe thead th {\n",
              "        text-align: right;\n",
              "    }\n",
              "</style>\n",
              "<table border=\"1\" class=\"dataframe\">\n",
              "  <thead>\n",
              "    <tr style=\"text-align: right;\">\n",
              "      <th></th>\n",
              "      <th>ID</th>\n",
              "      <th>Contract Number (IDVPIID)</th>\n",
              "      <th>Award Number (PIID)</th>\n",
              "      <th>Modification Number</th>\n",
              "      <th>Fiscal Year</th>\n",
              "      <th>Title</th>\n",
              "      <th>Awarded Amount</th>\n",
              "      <th>Contracting Office</th>\n",
              "      <th>Contracting Agency</th>\n",
              "      <th>Place of Performance State</th>\n",
              "      <th>Place of Performance City</th>\n",
              "      <th>Vendor  Name</th>\n",
              "      <th>Vendor  Top Name</th>\n",
              "      <th>PSC Name</th>\n",
              "    </tr>\n",
              "  </thead>\n",
              "  <tbody>\n",
              "    <tr>\n",
              "      <th>54374</th>\n",
              "      <td>676404110</td>\n",
              "      <td>NaN</td>\n",
              "      <td>FA489017C0005</td>\n",
              "      <td>P00046</td>\n",
              "      <td>2021</td>\n",
              "      <td>PROGRAM MANAGEMENT SUPPORT- ALL ACTIVITIES REQ...</td>\n",
              "      <td>0.00</td>\n",
              "      <td>US Department of the Air Force</td>\n",
              "      <td>US Department of Defense (DoD)</td>\n",
              "      <td>SC</td>\n",
              "      <td>Shaw AFB</td>\n",
              "      <td>Dyncorp International LLC</td>\n",
              "      <td>Amentum Government Services Holdings LLC</td>\n",
              "      <td>(M1GZ) OPERATION OF OTHER WAREHOUSE BUILDINGS</td>\n",
              "    </tr>\n",
              "    <tr>\n",
              "      <th>54375</th>\n",
              "      <td>676404111</td>\n",
              "      <td>NaN</td>\n",
              "      <td>FA489017C0005</td>\n",
              "      <td>P00046</td>\n",
              "      <td>2021</td>\n",
              "      <td>WAR RESERVE MATERIEL - FUNDING ONLY ACTION (FU...</td>\n",
              "      <td>2563626.87</td>\n",
              "      <td>US Department of the Air Force</td>\n",
              "      <td>US Department of Defense (DoD)</td>\n",
              "      <td>SC</td>\n",
              "      <td>Shaw AFB</td>\n",
              "      <td>Dyncorp International LLC</td>\n",
              "      <td>Amentum Government Services Holdings LLC</td>\n",
              "      <td>(M1GZ) OPERATION OF OTHER WAREHOUSE BUILDINGS</td>\n",
              "    </tr>\n",
              "    <tr>\n",
              "      <th>54376</th>\n",
              "      <td>676404112</td>\n",
              "      <td>NaN</td>\n",
              "      <td>FA489017C0005</td>\n",
              "      <td>P00046</td>\n",
              "      <td>2021</td>\n",
              "      <td>WAR RESERVE MATERIEL - FUNDING ONLY ACTION (FU...</td>\n",
              "      <td>0.00</td>\n",
              "      <td>US Department of the Air Force</td>\n",
              "      <td>US Department of Defense (DoD)</td>\n",
              "      <td>SC</td>\n",
              "      <td>Shaw AFB</td>\n",
              "      <td>Dyncorp International LLC</td>\n",
              "      <td>Amentum Government Services Holdings LLC</td>\n",
              "      <td>(M1GZ) OPERATION OF OTHER WAREHOUSE BUILDINGS</td>\n",
              "    </tr>\n",
              "    <tr>\n",
              "      <th>54377</th>\n",
              "      <td>676547655</td>\n",
              "      <td>NaN</td>\n",
              "      <td>75H71221C00019</td>\n",
              "      <td>0</td>\n",
              "      <td>2021</td>\n",
              "      <td>PROVIDE RENTAL OR LEASE OF ENDOSCOPIC VIDEO TO...</td>\n",
              "      <td>226322.40</td>\n",
              "      <td>IHS - Phoenix Area Office</td>\n",
              "      <td>US Department of Health and Human Services (HHS)</td>\n",
              "      <td>AZ</td>\n",
              "      <td>Phoenix</td>\n",
              "      <td>Stryker Sales, LLC</td>\n",
              "      <td>Stryker Corporation</td>\n",
              "      <td>NaN</td>\n",
              "    </tr>\n",
              "    <tr>\n",
              "      <th>54378</th>\n",
              "      <td>676554198</td>\n",
              "      <td>36F79721D0021</td>\n",
              "      <td>36C24821N1079</td>\n",
              "      <td>0</td>\n",
              "      <td>2021</td>\n",
              "      <td>EBB LSV 5 PASSENGER STRETCHER PO: 672A10096</td>\n",
              "      <td>26000.00</td>\n",
              "      <td>US Department of Veterans Affairs (VA)</td>\n",
              "      <td>US Department of Veterans Affairs (VA)</td>\n",
              "      <td>MI</td>\n",
              "      <td>Portage</td>\n",
              "      <td>Stryker Corporation</td>\n",
              "      <td>Stryker Corporation</td>\n",
              "      <td>(6515) MEDICAL AND SURGICAL INSTRUMENTS, EQUIP...</td>\n",
              "    </tr>\n",
              "  </tbody>\n",
              "</table>\n",
              "</div>\n",
              "    <div class=\"colab-df-buttons\">\n",
              "\n",
              "  <div class=\"colab-df-container\">\n",
              "    <button class=\"colab-df-convert\" onclick=\"convertToInteractive('df-876356c8-daf2-472a-8441-e3c319621011')\"\n",
              "            title=\"Convert this dataframe to an interactive table.\"\n",
              "            style=\"display:none;\">\n",
              "\n",
              "  <svg xmlns=\"http://www.w3.org/2000/svg\" height=\"24px\" viewBox=\"0 -960 960 960\">\n",
              "    <path d=\"M120-120v-720h720v720H120Zm60-500h600v-160H180v160Zm220 220h160v-160H400v160Zm0 220h160v-160H400v160ZM180-400h160v-160H180v160Zm440 0h160v-160H620v160ZM180-180h160v-160H180v160Zm440 0h160v-160H620v160Z\"/>\n",
              "  </svg>\n",
              "    </button>\n",
              "\n",
              "  <style>\n",
              "    .colab-df-container {\n",
              "      display:flex;\n",
              "      gap: 12px;\n",
              "    }\n",
              "\n",
              "    .colab-df-convert {\n",
              "      background-color: #E8F0FE;\n",
              "      border: none;\n",
              "      border-radius: 50%;\n",
              "      cursor: pointer;\n",
              "      display: none;\n",
              "      fill: #1967D2;\n",
              "      height: 32px;\n",
              "      padding: 0 0 0 0;\n",
              "      width: 32px;\n",
              "    }\n",
              "\n",
              "    .colab-df-convert:hover {\n",
              "      background-color: #E2EBFA;\n",
              "      box-shadow: 0px 1px 2px rgba(60, 64, 67, 0.3), 0px 1px 3px 1px rgba(60, 64, 67, 0.15);\n",
              "      fill: #174EA6;\n",
              "    }\n",
              "\n",
              "    .colab-df-buttons div {\n",
              "      margin-bottom: 4px;\n",
              "    }\n",
              "\n",
              "    [theme=dark] .colab-df-convert {\n",
              "      background-color: #3B4455;\n",
              "      fill: #D2E3FC;\n",
              "    }\n",
              "\n",
              "    [theme=dark] .colab-df-convert:hover {\n",
              "      background-color: #434B5C;\n",
              "      box-shadow: 0px 1px 3px 1px rgba(0, 0, 0, 0.15);\n",
              "      filter: drop-shadow(0px 1px 2px rgba(0, 0, 0, 0.3));\n",
              "      fill: #FFFFFF;\n",
              "    }\n",
              "  </style>\n",
              "\n",
              "    <script>\n",
              "      const buttonEl =\n",
              "        document.querySelector('#df-876356c8-daf2-472a-8441-e3c319621011 button.colab-df-convert');\n",
              "      buttonEl.style.display =\n",
              "        google.colab.kernel.accessAllowed ? 'block' : 'none';\n",
              "\n",
              "      async function convertToInteractive(key) {\n",
              "        const element = document.querySelector('#df-876356c8-daf2-472a-8441-e3c319621011');\n",
              "        const dataTable =\n",
              "          await google.colab.kernel.invokeFunction('convertToInteractive',\n",
              "                                                    [key], {});\n",
              "        if (!dataTable) return;\n",
              "\n",
              "        const docLinkHtml = 'Like what you see? Visit the ' +\n",
              "          '<a target=\"_blank\" href=https://colab.research.google.com/notebooks/data_table.ipynb>data table notebook</a>'\n",
              "          + ' to learn more about interactive tables.';\n",
              "        element.innerHTML = '';\n",
              "        dataTable['output_type'] = 'display_data';\n",
              "        await google.colab.output.renderOutput(dataTable, element);\n",
              "        const docLink = document.createElement('div');\n",
              "        docLink.innerHTML = docLinkHtml;\n",
              "        element.appendChild(docLink);\n",
              "      }\n",
              "    </script>\n",
              "  </div>\n",
              "\n",
              "\n",
              "<div id=\"df-a64647b3-f20c-45b8-a362-3aa263747bbd\">\n",
              "  <button class=\"colab-df-quickchart\" onclick=\"quickchart('df-a64647b3-f20c-45b8-a362-3aa263747bbd')\"\n",
              "            title=\"Suggest charts\"\n",
              "            style=\"display:none;\">\n",
              "\n",
              "<svg xmlns=\"http://www.w3.org/2000/svg\" height=\"24px\"viewBox=\"0 0 24 24\"\n",
              "     width=\"24px\">\n",
              "    <g>\n",
              "        <path d=\"M19 3H5c-1.1 0-2 .9-2 2v14c0 1.1.9 2 2 2h14c1.1 0 2-.9 2-2V5c0-1.1-.9-2-2-2zM9 17H7v-7h2v7zm4 0h-2V7h2v10zm4 0h-2v-4h2v4z\"/>\n",
              "    </g>\n",
              "</svg>\n",
              "  </button>\n",
              "\n",
              "<style>\n",
              "  .colab-df-quickchart {\n",
              "      --bg-color: #E8F0FE;\n",
              "      --fill-color: #1967D2;\n",
              "      --hover-bg-color: #E2EBFA;\n",
              "      --hover-fill-color: #174EA6;\n",
              "      --disabled-fill-color: #AAA;\n",
              "      --disabled-bg-color: #DDD;\n",
              "  }\n",
              "\n",
              "  [theme=dark] .colab-df-quickchart {\n",
              "      --bg-color: #3B4455;\n",
              "      --fill-color: #D2E3FC;\n",
              "      --hover-bg-color: #434B5C;\n",
              "      --hover-fill-color: #FFFFFF;\n",
              "      --disabled-bg-color: #3B4455;\n",
              "      --disabled-fill-color: #666;\n",
              "  }\n",
              "\n",
              "  .colab-df-quickchart {\n",
              "    background-color: var(--bg-color);\n",
              "    border: none;\n",
              "    border-radius: 50%;\n",
              "    cursor: pointer;\n",
              "    display: none;\n",
              "    fill: var(--fill-color);\n",
              "    height: 32px;\n",
              "    padding: 0;\n",
              "    width: 32px;\n",
              "  }\n",
              "\n",
              "  .colab-df-quickchart:hover {\n",
              "    background-color: var(--hover-bg-color);\n",
              "    box-shadow: 0 1px 2px rgba(60, 64, 67, 0.3), 0 1px 3px 1px rgba(60, 64, 67, 0.15);\n",
              "    fill: var(--button-hover-fill-color);\n",
              "  }\n",
              "\n",
              "  .colab-df-quickchart-complete:disabled,\n",
              "  .colab-df-quickchart-complete:disabled:hover {\n",
              "    background-color: var(--disabled-bg-color);\n",
              "    fill: var(--disabled-fill-color);\n",
              "    box-shadow: none;\n",
              "  }\n",
              "\n",
              "  .colab-df-spinner {\n",
              "    border: 2px solid var(--fill-color);\n",
              "    border-color: transparent;\n",
              "    border-bottom-color: var(--fill-color);\n",
              "    animation:\n",
              "      spin 1s steps(1) infinite;\n",
              "  }\n",
              "\n",
              "  @keyframes spin {\n",
              "    0% {\n",
              "      border-color: transparent;\n",
              "      border-bottom-color: var(--fill-color);\n",
              "      border-left-color: var(--fill-color);\n",
              "    }\n",
              "    20% {\n",
              "      border-color: transparent;\n",
              "      border-left-color: var(--fill-color);\n",
              "      border-top-color: var(--fill-color);\n",
              "    }\n",
              "    30% {\n",
              "      border-color: transparent;\n",
              "      border-left-color: var(--fill-color);\n",
              "      border-top-color: var(--fill-color);\n",
              "      border-right-color: var(--fill-color);\n",
              "    }\n",
              "    40% {\n",
              "      border-color: transparent;\n",
              "      border-right-color: var(--fill-color);\n",
              "      border-top-color: var(--fill-color);\n",
              "    }\n",
              "    60% {\n",
              "      border-color: transparent;\n",
              "      border-right-color: var(--fill-color);\n",
              "    }\n",
              "    80% {\n",
              "      border-color: transparent;\n",
              "      border-right-color: var(--fill-color);\n",
              "      border-bottom-color: var(--fill-color);\n",
              "    }\n",
              "    90% {\n",
              "      border-color: transparent;\n",
              "      border-bottom-color: var(--fill-color);\n",
              "    }\n",
              "  }\n",
              "</style>\n",
              "\n",
              "  <script>\n",
              "    async function quickchart(key) {\n",
              "      const quickchartButtonEl =\n",
              "        document.querySelector('#' + key + ' button');\n",
              "      quickchartButtonEl.disabled = true;  // To prevent multiple clicks.\n",
              "      quickchartButtonEl.classList.add('colab-df-spinner');\n",
              "      try {\n",
              "        const charts = await google.colab.kernel.invokeFunction(\n",
              "            'suggestCharts', [key], {});\n",
              "      } catch (error) {\n",
              "        console.error('Error during call to suggestCharts:', error);\n",
              "      }\n",
              "      quickchartButtonEl.classList.remove('colab-df-spinner');\n",
              "      quickchartButtonEl.classList.add('colab-df-quickchart-complete');\n",
              "    }\n",
              "    (() => {\n",
              "      let quickchartButtonEl =\n",
              "        document.querySelector('#df-a64647b3-f20c-45b8-a362-3aa263747bbd button');\n",
              "      quickchartButtonEl.style.display =\n",
              "        google.colab.kernel.accessAllowed ? 'block' : 'none';\n",
              "    })();\n",
              "  </script>\n",
              "</div>\n",
              "\n",
              "    </div>\n",
              "  </div>\n"
            ],
            "application/vnd.google.colaboratory.intrinsic+json": {
              "type": "dataframe",
              "summary": "{\n  \"name\": \"display(ground_vehicles\",\n  \"rows\": 5,\n  \"fields\": [\n    {\n      \"column\": \"ID\",\n      \"properties\": {\n        \"dtype\": \"number\",\n        \"std\": 80447,\n        \"min\": 676404110,\n        \"max\": 676554198,\n        \"num_unique_values\": 5,\n        \"samples\": [\n          676404111,\n          676554198,\n          676404112\n        ],\n        \"semantic_type\": \"\",\n        \"description\": \"\"\n      }\n    },\n    {\n      \"column\": \"Contract Number (IDVPIID)\",\n      \"properties\": {\n        \"dtype\": \"category\",\n        \"num_unique_values\": 1,\n        \"samples\": [\n          \"36F79721D0021\"\n        ],\n        \"semantic_type\": \"\",\n        \"description\": \"\"\n      }\n    },\n    {\n      \"column\": \"Award Number (PIID)\",\n      \"properties\": {\n        \"dtype\": \"string\",\n        \"num_unique_values\": 3,\n        \"samples\": [\n          \"FA489017C0005\"\n        ],\n        \"semantic_type\": \"\",\n        \"description\": \"\"\n      }\n    },\n    {\n      \"column\": \"Modification Number\",\n      \"properties\": {\n        \"dtype\": \"category\",\n        \"num_unique_values\": 2,\n        \"samples\": [\n          \"0\"\n        ],\n        \"semantic_type\": \"\",\n        \"description\": \"\"\n      }\n    },\n    {\n      \"column\": \"Fiscal Year\",\n      \"properties\": {\n        \"dtype\": \"number\",\n        \"std\": 0,\n        \"min\": 2021,\n        \"max\": 2021,\n        \"num_unique_values\": 1,\n        \"samples\": [\n          2021\n        ],\n        \"semantic_type\": \"\",\n        \"description\": \"\"\n      }\n    },\n    {\n      \"column\": \"Title\",\n      \"properties\": {\n        \"dtype\": \"string\",\n        \"num_unique_values\": 4,\n        \"samples\": [\n          \"WAR RESERVE MATERIEL - FUNDING ONLY ACTION (FUND OY4 POP 1OCT20-30SEP21)\"\n        ],\n        \"semantic_type\": \"\",\n        \"description\": \"\"\n      }\n    },\n    {\n      \"column\": \"Awarded Amount\",\n      \"properties\": {\n        \"dtype\": \"number\",\n        \"std\": 1122293.02090464,\n        \"min\": 0.0,\n        \"max\": 2563626.87,\n        \"num_unique_values\": 4,\n        \"samples\": [\n          2563626.87\n        ],\n        \"semantic_type\": \"\",\n        \"description\": \"\"\n      }\n    },\n    {\n      \"column\": \"Contracting Office\",\n      \"properties\": {\n        \"dtype\": \"string\",\n        \"num_unique_values\": 3,\n        \"samples\": [\n          \"US Department of the Air Force\"\n        ],\n        \"semantic_type\": \"\",\n        \"description\": \"\"\n      }\n    },\n    {\n      \"column\": \"Contracting Agency\",\n      \"properties\": {\n        \"dtype\": \"string\",\n        \"num_unique_values\": 3,\n        \"samples\": [\n          \"US Department of Defense (DoD)\"\n        ],\n        \"semantic_type\": \"\",\n        \"description\": \"\"\n      }\n    },\n    {\n      \"column\": \"Place of Performance State\",\n      \"properties\": {\n        \"dtype\": \"string\",\n        \"num_unique_values\": 3,\n        \"samples\": [\n          \"SC\"\n        ],\n        \"semantic_type\": \"\",\n        \"description\": \"\"\n      }\n    },\n    {\n      \"column\": \"Place of Performance City\",\n      \"properties\": {\n        \"dtype\": \"string\",\n        \"num_unique_values\": 3,\n        \"samples\": [\n          \"Shaw AFB\"\n        ],\n        \"semantic_type\": \"\",\n        \"description\": \"\"\n      }\n    },\n    {\n      \"column\": \"Vendor  Name\",\n      \"properties\": {\n        \"dtype\": \"string\",\n        \"num_unique_values\": 3,\n        \"samples\": [\n          \"Dyncorp International LLC\"\n        ],\n        \"semantic_type\": \"\",\n        \"description\": \"\"\n      }\n    },\n    {\n      \"column\": \"Vendor  Top Name\",\n      \"properties\": {\n        \"dtype\": \"category\",\n        \"num_unique_values\": 2,\n        \"samples\": [\n          \"Stryker Corporation\"\n        ],\n        \"semantic_type\": \"\",\n        \"description\": \"\"\n      }\n    },\n    {\n      \"column\": \"PSC Name\",\n      \"properties\": {\n        \"dtype\": \"category\",\n        \"num_unique_values\": 2,\n        \"samples\": [\n          \"(6515) MEDICAL AND SURGICAL INSTRUMENTS, EQUIPMENT, AND SUPPLIES\"\n        ],\n        \"semantic_type\": \"\",\n        \"description\": \"\"\n      }\n    }\n  ]\n}"
            }
          },
          "metadata": {}
        }
      ]
    },
    {
      "cell_type": "code",
      "source": [
        "#gain more information about the dataset\n",
        "print(ground_vehicles.describe())\n",
        "print(ground_vehicles.info())\n",
        "print(ground_vehicles.dtypes)\n",
        "print(ground_vehicles.shape)\n",
        "print(ground_vehicles.values)\n",
        "print(ground_vehicles.columns)\n",
        "print(ground_vehicles.index)"
      ],
      "metadata": {
        "colab": {
          "base_uri": "https://localhost:8080/"
        },
        "id": "6RmHSj1uc4oS",
        "outputId": "5fc61c2f-2e34-441c-d20b-ecf69205967b",
        "collapsed": true
      },
      "execution_count": null,
      "outputs": [
        {
          "output_type": "stream",
          "name": "stdout",
          "text": [
            "                 ID   Fiscal Year  Awarded Amount\n",
            "count  5.437900e+04  54379.000000    5.308100e+04\n",
            "mean   4.514616e+08   2018.041983    5.418603e+05\n",
            "std    1.532453e+08      1.612579    1.281868e+07\n",
            "min    2.619012e+08   2016.000000   -4.170755e+08\n",
            "25%    2.991626e+08   2017.000000    1.229180e+03\n",
            "50%    4.629981e+08   2018.000000    6.021000e+03\n",
            "75%    5.998319e+08   2019.000000    1.100173e+04\n",
            "max    6.765542e+08   2021.000000    1.698640e+09\n",
            "<class 'pandas.core.frame.DataFrame'>\n",
            "RangeIndex: 54379 entries, 0 to 54378\n",
            "Data columns (total 14 columns):\n",
            " #   Column                      Non-Null Count  Dtype  \n",
            "---  ------                      --------------  -----  \n",
            " 0   ID                          54379 non-null  int64  \n",
            " 1   Contract Number (IDVPIID)   40102 non-null  object \n",
            " 2   Award Number (PIID)         54254 non-null  object \n",
            " 3   Modification Number         52895 non-null  object \n",
            " 4   Fiscal Year                 54379 non-null  int64  \n",
            " 5   Title                       54376 non-null  object \n",
            " 6   Awarded Amount              53081 non-null  float64\n",
            " 7   Contracting Office          54379 non-null  object \n",
            " 8   Contracting Agency          54379 non-null  object \n",
            " 9   Place of Performance State  52007 non-null  object \n",
            " 10  Place of Performance City   52007 non-null  object \n",
            " 11  Vendor  Name                54379 non-null  object \n",
            " 12  Vendor  Top Name            54379 non-null  object \n",
            " 13  PSC Name                    53631 non-null  object \n",
            "dtypes: float64(1), int64(2), object(11)\n",
            "memory usage: 5.8+ MB\n",
            "None\n",
            "ID                              int64\n",
            "Contract Number (IDVPIID)      object\n",
            "Award Number (PIID)            object\n",
            "Modification Number            object\n",
            "Fiscal Year                     int64\n",
            "Title                          object\n",
            "Awarded Amount                float64\n",
            "Contracting Office             object\n",
            "Contracting Agency             object\n",
            "Place of Performance State     object\n",
            "Place of Performance City      object\n",
            "Vendor  Name                   object\n",
            "Vendor  Top Name               object\n",
            "PSC Name                       object\n",
            "dtype: object\n",
            "(54379, 14)\n",
            "[[261901205 nan 'SPE4A616M0117' ...\n",
            "  'Longhorn Regional Service Center LLC'\n",
            "  'Longhorn Regional Service Center LLC' '(31) BEARINGS']\n",
            " [261915422 nan 'VA26014P1360' ... 'Stryker Corporation'\n",
            "  'Stryker Corporation'\n",
            "  '(J065) MAINT/REPAIR/REBUILD OF EQUIPMENT- MEDICAL, DENTAL, AND VETERINARY EQUIPMENT AND SUPPLIES']\n",
            " [261916094 nan 'VA25912C0281' ... 'Stryker Corporation'\n",
            "  'Stryker Corporation'\n",
            "  '(J065) MAINT/REPAIR/REBUILD OF EQUIPMENT- MEDICAL, DENTAL, AND VETERINARY EQUIPMENT AND SUPPLIES']\n",
            " ...\n",
            " [676404112 nan 'FA489017C0005' ... 'Dyncorp International LLC'\n",
            "  'Amentum Government Services Holdings LLC'\n",
            "  '(M1GZ) OPERATION OF OTHER WAREHOUSE BUILDINGS']\n",
            " [676547655 nan '75H71221C00019' ... 'Stryker Sales, LLC'\n",
            "  'Stryker Corporation' nan]\n",
            " [676554198 '36F79721D0021' '36C24821N1079' ... 'Stryker Corporation'\n",
            "  'Stryker Corporation'\n",
            "  '(6515) MEDICAL AND SURGICAL INSTRUMENTS, EQUIPMENT, AND SUPPLIES']]\n",
            "Index(['ID', 'Contract Number (IDVPIID)', 'Award Number (PIID)',\n",
            "       'Modification Number', 'Fiscal Year', 'Title', 'Awarded Amount',\n",
            "       'Contracting Office', 'Contracting Agency',\n",
            "       'Place of Performance State', 'Place of Performance City',\n",
            "       'Vendor  Name', 'Vendor  Top Name', 'PSC Name'],\n",
            "      dtype='object')\n",
            "RangeIndex(start=0, stop=54379, step=1)\n"
          ]
        }
      ]
    },
    {
      "cell_type": "code",
      "source": [
        "#look for null values in each column\n",
        "print(ground_vehicles.isnull().sum())"
      ],
      "metadata": {
        "colab": {
          "base_uri": "https://localhost:8080/"
        },
        "collapsed": true,
        "id": "kuQFouYLRosO",
        "outputId": "13eb5cf8-68f9-4f91-f1b5-ef06e1004d7b"
      },
      "execution_count": null,
      "outputs": [
        {
          "output_type": "stream",
          "name": "stdout",
          "text": [
            "ID                                0\n",
            "Contract Number (IDVPIID)     14277\n",
            "Award Number (PIID)             125\n",
            "Modification Number            1484\n",
            "Fiscal Year                       0\n",
            "Title                             3\n",
            "Awarded Amount                 1298\n",
            "Contracting Office                0\n",
            "Contracting Agency                0\n",
            "Place of Performance State     2372\n",
            "Place of Performance City      2372\n",
            "Vendor  Name                      0\n",
            "Vendor  Top Name                  0\n",
            "PSC Name                        748\n",
            "dtype: int64\n"
          ]
        }
      ]
    },
    {
      "cell_type": "code",
      "source": [
        "import numpy as np"
      ],
      "metadata": {
        "id": "1xu2fkVyklc9"
      },
      "execution_count": null,
      "outputs": []
    },
    {
      "cell_type": "code",
      "source": [
        "#replace blank values in contract no. with unknown value\n",
        "ground_vehicles['Contract Number (IDVPIID)'].replace(' ', np.nan, inplace=True)\n",
        "ground_vehicles['Contract Number (IDVPIID)'].fillna('Unknown', inplace=True)\n",
        "print(ground_vehicles['Contract Number (IDVPIID)'].head())"
      ],
      "metadata": {
        "id": "O9DrsgEnU-QO",
        "colab": {
          "base_uri": "https://localhost:8080/"
        },
        "collapsed": true,
        "outputId": "78f2fdda-4988-48dc-d7a8-0bc915ccb581"
      },
      "execution_count": null,
      "outputs": [
        {
          "output_type": "stream",
          "name": "stdout",
          "text": [
            "0    Unknown\n",
            "1    Unknown\n",
            "2    Unknown\n",
            "3    Unknown\n",
            "4    Unknown\n",
            "Name: Contract Number (IDVPIID), dtype: object\n"
          ]
        },
        {
          "output_type": "stream",
          "name": "stderr",
          "text": [
            "<ipython-input-10-5f4146079e5c>:2: FutureWarning: A value is trying to be set on a copy of a DataFrame or Series through chained assignment using an inplace method.\n",
            "The behavior will change in pandas 3.0. This inplace method will never work because the intermediate object on which we are setting values always behaves as a copy.\n",
            "\n",
            "For example, when doing 'df[col].method(value, inplace=True)', try using 'df.method({col: value}, inplace=True)' or df[col] = df[col].method(value) instead, to perform the operation inplace on the original object.\n",
            "\n",
            "\n",
            "  ground_vehicles['Contract Number (IDVPIID)'].replace(' ', np.nan, inplace=True)\n",
            "<ipython-input-10-5f4146079e5c>:3: FutureWarning: A value is trying to be set on a copy of a DataFrame or Series through chained assignment using an inplace method.\n",
            "The behavior will change in pandas 3.0. This inplace method will never work because the intermediate object on which we are setting values always behaves as a copy.\n",
            "\n",
            "For example, when doing 'df[col].method(value, inplace=True)', try using 'df.method({col: value}, inplace=True)' or df[col] = df[col].method(value) instead, to perform the operation inplace on the original object.\n",
            "\n",
            "\n",
            "  ground_vehicles['Contract Number (IDVPIID)'].fillna('Unknown', inplace=True)\n"
          ]
        }
      ]
    },
    {
      "cell_type": "code",
      "source": [
        "#replace blank values in award no. with unknown value\n",
        "ground_vehicles['Award Number (PIID)'].replace(' ', np.nan, inplace=True)\n",
        "ground_vehicles['Award Number (PIID)'].fillna('Unknown', inplace=True)\n",
        "print(ground_vehicles['Award Number (PIID)'].head(n=100))"
      ],
      "metadata": {
        "colab": {
          "base_uri": "https://localhost:8080/"
        },
        "collapsed": true,
        "id": "DhqMG5MDlblQ",
        "outputId": "2aadc189-aa57-447a-b368-a4e74b9c0466"
      },
      "execution_count": null,
      "outputs": [
        {
          "output_type": "stream",
          "name": "stdout",
          "text": [
            "0     SPE4A616M0117\n",
            "1      VA26014P1360\n",
            "2      VA25912C0281\n",
            "3      VA25115C0125\n",
            "4      VA25114C0139\n",
            "          ...      \n",
            "95     VA25016P0101\n",
            "96     VA24616P0276\n",
            "97     VA24916P0029\n",
            "98     VA24716J0083\n",
            "99     VA24116J0060\n",
            "Name: Award Number (PIID), Length: 100, dtype: object\n"
          ]
        },
        {
          "output_type": "stream",
          "name": "stderr",
          "text": [
            "<ipython-input-11-19b6ed1c5c58>:2: FutureWarning: A value is trying to be set on a copy of a DataFrame or Series through chained assignment using an inplace method.\n",
            "The behavior will change in pandas 3.0. This inplace method will never work because the intermediate object on which we are setting values always behaves as a copy.\n",
            "\n",
            "For example, when doing 'df[col].method(value, inplace=True)', try using 'df.method({col: value}, inplace=True)' or df[col] = df[col].method(value) instead, to perform the operation inplace on the original object.\n",
            "\n",
            "\n",
            "  ground_vehicles['Award Number (PIID)'].replace(' ', np.nan, inplace=True)\n",
            "<ipython-input-11-19b6ed1c5c58>:3: FutureWarning: A value is trying to be set on a copy of a DataFrame or Series through chained assignment using an inplace method.\n",
            "The behavior will change in pandas 3.0. This inplace method will never work because the intermediate object on which we are setting values always behaves as a copy.\n",
            "\n",
            "For example, when doing 'df[col].method(value, inplace=True)', try using 'df.method({col: value}, inplace=True)' or df[col] = df[col].method(value) instead, to perform the operation inplace on the original object.\n",
            "\n",
            "\n",
            "  ground_vehicles['Award Number (PIID)'].fillna('Unknown', inplace=True)\n"
          ]
        }
      ]
    },
    {
      "cell_type": "code",
      "source": [
        "#fill modification number with a 0\n",
        "ground_vehicles['Modification Number'].fillna(0, inplace=True)\n",
        "print(ground_vehicles['Modification Number'].head())"
      ],
      "metadata": {
        "colab": {
          "base_uri": "https://localhost:8080/"
        },
        "collapsed": true,
        "id": "fNlcELf_oiLb",
        "outputId": "b8473ce7-49aa-42d9-bdb8-5d6a10a37077"
      },
      "execution_count": null,
      "outputs": [
        {
          "output_type": "stream",
          "name": "stdout",
          "text": [
            "0         0\n",
            "1    P00003\n",
            "2    P00004\n",
            "3    P00001\n",
            "4    P00001\n",
            "Name: Modification Number, dtype: object\n"
          ]
        },
        {
          "output_type": "stream",
          "name": "stderr",
          "text": [
            "<ipython-input-12-f4d973335523>:2: FutureWarning: A value is trying to be set on a copy of a DataFrame or Series through chained assignment using an inplace method.\n",
            "The behavior will change in pandas 3.0. This inplace method will never work because the intermediate object on which we are setting values always behaves as a copy.\n",
            "\n",
            "For example, when doing 'df[col].method(value, inplace=True)', try using 'df.method({col: value}, inplace=True)' or df[col] = df[col].method(value) instead, to perform the operation inplace on the original object.\n",
            "\n",
            "\n",
            "  ground_vehicles['Modification Number'].fillna(0, inplace=True)\n"
          ]
        }
      ]
    },
    {
      "cell_type": "code",
      "source": [
        "#fill null values in awarded amt. with mean\n",
        "ground_vehicles['Awarded Amount'].fillna(ground_vehicles['Awarded Amount'].mean(), inplace=True)\n",
        "print(ground_vehicles['Awarded Amount'].head())"
      ],
      "metadata": {
        "colab": {
          "base_uri": "https://localhost:8080/"
        },
        "collapsed": true,
        "id": "FWpkA8VDwITZ",
        "outputId": "f036a3d8-896b-407e-8e1e-1c32b7e88594"
      },
      "execution_count": null,
      "outputs": [
        {
          "output_type": "stream",
          "name": "stdout",
          "text": [
            "0    541860.341374\n",
            "1     25990.000000\n",
            "2     13053.380000\n",
            "3     16356.000000\n",
            "4     68023.620000\n",
            "Name: Awarded Amount, dtype: float64\n"
          ]
        },
        {
          "output_type": "stream",
          "name": "stderr",
          "text": [
            "<ipython-input-13-42bac773ac31>:2: FutureWarning: A value is trying to be set on a copy of a DataFrame or Series through chained assignment using an inplace method.\n",
            "The behavior will change in pandas 3.0. This inplace method will never work because the intermediate object on which we are setting values always behaves as a copy.\n",
            "\n",
            "For example, when doing 'df[col].method(value, inplace=True)', try using 'df.method({col: value}, inplace=True)' or df[col] = df[col].method(value) instead, to perform the operation inplace on the original object.\n",
            "\n",
            "\n",
            "  ground_vehicles['Awarded Amount'].fillna(ground_vehicles['Awarded Amount'].mean(), inplace=True)\n"
          ]
        }
      ]
    },
    {
      "cell_type": "code",
      "source": [
        "#replace blank values in Place of Performance State with unknown value\n",
        "ground_vehicles['Place of Performance State'].replace(' ', np.nan, inplace=True)\n",
        "ground_vehicles['Place of Performance State'].fillna('Unknown', inplace=True)\n",
        "print(ground_vehicles['Place of Performance State'].head(n=10))"
      ],
      "metadata": {
        "colab": {
          "base_uri": "https://localhost:8080/"
        },
        "collapsed": true,
        "id": "YTwA1Kf209EQ",
        "outputId": "71b63c86-3b7f-425e-e3e2-7eb0620aaa9d"
      },
      "execution_count": null,
      "outputs": [
        {
          "output_type": "stream",
          "name": "stdout",
          "text": [
            "0    Unknown\n",
            "1         OR\n",
            "2         MI\n",
            "3         MI\n",
            "4         MI\n",
            "5         CA\n",
            "6         NJ\n",
            "7         OH\n",
            "8         ID\n",
            "9         WI\n",
            "Name: Place of Performance State, dtype: object\n"
          ]
        },
        {
          "output_type": "stream",
          "name": "stderr",
          "text": [
            "<ipython-input-14-f1a4364306d5>:2: FutureWarning: A value is trying to be set on a copy of a DataFrame or Series through chained assignment using an inplace method.\n",
            "The behavior will change in pandas 3.0. This inplace method will never work because the intermediate object on which we are setting values always behaves as a copy.\n",
            "\n",
            "For example, when doing 'df[col].method(value, inplace=True)', try using 'df.method({col: value}, inplace=True)' or df[col] = df[col].method(value) instead, to perform the operation inplace on the original object.\n",
            "\n",
            "\n",
            "  ground_vehicles['Place of Performance State'].replace(' ', np.nan, inplace=True)\n",
            "<ipython-input-14-f1a4364306d5>:3: FutureWarning: A value is trying to be set on a copy of a DataFrame or Series through chained assignment using an inplace method.\n",
            "The behavior will change in pandas 3.0. This inplace method will never work because the intermediate object on which we are setting values always behaves as a copy.\n",
            "\n",
            "For example, when doing 'df[col].method(value, inplace=True)', try using 'df.method({col: value}, inplace=True)' or df[col] = df[col].method(value) instead, to perform the operation inplace on the original object.\n",
            "\n",
            "\n",
            "  ground_vehicles['Place of Performance State'].fillna('Unknown', inplace=True)\n"
          ]
        }
      ]
    },
    {
      "cell_type": "code",
      "source": [
        "#replace blank values in Place of Performance City with unknown value\n",
        "ground_vehicles['Place of Performance City'].replace('', np.nan, inplace=True)\n",
        "ground_vehicles['Place of Performance City'].fillna('Unknown', inplace=True)\n",
        "print(ground_vehicles['Place of Performance City'].head(n=30))"
      ],
      "metadata": {
        "colab": {
          "base_uri": "https://localhost:8080/"
        },
        "collapsed": true,
        "id": "cKaSJ3B82ON_",
        "outputId": "ce89ec15-703f-4647-f35c-528447e2b798"
      },
      "execution_count": null,
      "outputs": [
        {
          "output_type": "stream",
          "name": "stdout",
          "text": [
            "0           Unknown\n",
            "1          Portland\n",
            "2           Portage\n",
            "3         Ann Arbor\n",
            "4         Ann Arbor\n",
            "5        Loma Linda\n",
            "6       East Orange\n",
            "7         Cleveland\n",
            "8             Boise\n",
            "9         Milwaukee\n",
            "10      Chillicothe\n",
            "11         New York\n",
            "12           Mahwah\n",
            "13          Augusta\n",
            "14      Chillicothe\n",
            "15     Indianapolis\n",
            "16    Oklahoma City\n",
            "17       Des Moines\n",
            "18     Independence\n",
            "19           Dallas\n",
            "20        Milwaukee\n",
            "21           Tucson\n",
            "22          Unknown\n",
            "23          Unknown\n",
            "24          Unknown\n",
            "25           Mahwah\n",
            "26      Chillicothe\n",
            "27      Chillicothe\n",
            "28           Mahwah\n",
            "29        Nashville\n",
            "Name: Place of Performance City, dtype: object\n"
          ]
        },
        {
          "output_type": "stream",
          "name": "stderr",
          "text": [
            "<ipython-input-15-dd5005d7267c>:2: FutureWarning: A value is trying to be set on a copy of a DataFrame or Series through chained assignment using an inplace method.\n",
            "The behavior will change in pandas 3.0. This inplace method will never work because the intermediate object on which we are setting values always behaves as a copy.\n",
            "\n",
            "For example, when doing 'df[col].method(value, inplace=True)', try using 'df.method({col: value}, inplace=True)' or df[col] = df[col].method(value) instead, to perform the operation inplace on the original object.\n",
            "\n",
            "\n",
            "  ground_vehicles['Place of Performance City'].replace('', np.nan, inplace=True)\n",
            "<ipython-input-15-dd5005d7267c>:3: FutureWarning: A value is trying to be set on a copy of a DataFrame or Series through chained assignment using an inplace method.\n",
            "The behavior will change in pandas 3.0. This inplace method will never work because the intermediate object on which we are setting values always behaves as a copy.\n",
            "\n",
            "For example, when doing 'df[col].method(value, inplace=True)', try using 'df.method({col: value}, inplace=True)' or df[col] = df[col].method(value) instead, to perform the operation inplace on the original object.\n",
            "\n",
            "\n",
            "  ground_vehicles['Place of Performance City'].fillna('Unknown', inplace=True)\n"
          ]
        }
      ]
    },
    {
      "cell_type": "code",
      "source": [
        "#Vendor Name Normalization\n",
        "corp_ground_vehicles= ground_vehicles['Vendor  Name'].str.replace(\"Corporation\", \"Corp.\", regex=True)\n",
        "print(corp_ground_vehicles.tail(n=20))\n",
        "\n"
      ],
      "metadata": {
        "colab": {
          "base_uri": "https://localhost:8080/"
        },
        "collapsed": true,
        "id": "qtMYQKmoMCpA",
        "outputId": "99524ccc-c3e3-49c2-fa02-822d94085f25"
      },
      "execution_count": null,
      "outputs": [
        {
          "output_type": "stream",
          "name": "stdout",
          "text": [
            "54359                         Stryker Corp.\n",
            "54360             Howmedica Osteonics Corp.\n",
            "54361        Coast Biomedical Equipment LLC\n",
            "54362    Black Knight Data & Analytics, LLC\n",
            "54363             F. T. S. Management, Inc.\n",
            "54364             Howmedica Osteonics Corp.\n",
            "54365             Howmedica Osteonics Corp.\n",
            "54366             Howmedica Osteonics Corp.\n",
            "54367             Howmedica Osteonics Corp.\n",
            "54368             Dyncorp International LLC\n",
            "54369             Dyncorp International LLC\n",
            "54370             Dyncorp International LLC\n",
            "54371             Dyncorp International LLC\n",
            "54372             Dyncorp International LLC\n",
            "54373             Dyncorp International LLC\n",
            "54374             Dyncorp International LLC\n",
            "54375             Dyncorp International LLC\n",
            "54376             Dyncorp International LLC\n",
            "54377                    Stryker Sales, LLC\n",
            "54378                         Stryker Corp.\n",
            "Name: Vendor  Name, dtype: object\n"
          ]
        }
      ]
    },
    {
      "cell_type": "markdown",
      "source": [],
      "metadata": {
        "id": "uXykTQ-SXIkn"
      }
    },
    {
      "cell_type": "code",
      "source": [
        "#average of all awards granted between 2016-2021\n",
        "mean_award_grant = ground_vehicles['Awarded Amount'].mean()"
      ],
      "metadata": {
        "id": "hB6l0hbAd2_1"
      },
      "execution_count": null,
      "outputs": []
    },
    {
      "cell_type": "code",
      "source": [
        "#average of award amounts by fiscal year\n",
        "mean_by_fy = ground_vehicles.groupby('Fiscal Year')['Awarded Amount'].mean()\n",
        "print(mean_by_fy)"
      ],
      "metadata": {
        "colab": {
          "base_uri": "https://localhost:8080/"
        },
        "id": "-8G_rNgr7yYt",
        "outputId": "2b20ef6e-a904-4516-daae-49234b0c988e"
      },
      "execution_count": null,
      "outputs": [
        {
          "output_type": "stream",
          "name": "stdout",
          "text": [
            "Fiscal Year\n",
            "2016    305956.318852\n",
            "2017    285754.147761\n",
            "2018    558420.096253\n",
            "2019    953533.028686\n",
            "2020    804210.464492\n",
            "2021    664016.559058\n",
            "Name: Awarded Amount, dtype: float64\n"
          ]
        }
      ]
    },
    {
      "cell_type": "code",
      "source": [
        "#Overview of all awards moneitarily granted by vendor\n",
        "sum_of_awards = ground_vehicles.groupby('Vendor  Name')['Awarded Amount'].sum().nlargest(10)\n",
        "print(sum_of_awards)"
      ],
      "metadata": {
        "colab": {
          "base_uri": "https://localhost:8080/"
        },
        "id": "kmSAWhmaVdaL",
        "outputId": "c704366e-cb77-401f-9a41-21ec05ebdb15"
      },
      "execution_count": null,
      "outputs": [
        {
          "output_type": "stream",
          "name": "stdout",
          "text": [
            "Vendor  Name\n",
            "General Dynamics Land Systems Inc.      8.340766e+09\n",
            "Oshkosh Corporation                     6.213480e+09\n",
            "Bae Systems Land & Armaments L.P.       3.445680e+09\n",
            "AM General LLC                          8.958724e+08\n",
            "Northrop Grumman Systems Corporation    8.714465e+08\n",
            "Raytheon Company                        6.558080e+08\n",
            "L3 Technologies, Inc.                   5.683380e+08\n",
            "Austal Usa, LLC                         5.221060e+08\n",
            "Systems Drs Sustainment Inc             4.402715e+08\n",
            "Navistar Defense LLC                    4.342090e+08\n",
            "Name: Awarded Amount, dtype: float64\n"
          ]
        }
      ]
    },
    {
      "cell_type": "code",
      "source": [
        "import matplotlib.pyplot as plt\n",
        "plt.scatter(ground_vehicles['Fiscal Year'], ground_vehicles['Awarded Amount'])\n",
        "plt.xlabel('Fiscal Year')\n",
        "plt.ylabel('Awarded Amount')\n",
        "plt.title('Average Awarded Amount by Fiscal Year')\n",
        "plt.show()"
      ],
      "metadata": {
        "colab": {
          "base_uri": "https://localhost:8080/",
          "height": 472
        },
        "id": "1rSaVY_alaOA",
        "outputId": "1d140935-d7ea-466d-e8d6-d6764a238ae5"
      },
      "execution_count": null,
      "outputs": [
        {
          "output_type": "display_data",
          "data": {
            "text/plain": [
              "<Figure size 640x480 with 1 Axes>"
            ],
            "image/png": "[encoded data removed]"
          },
          "metadata": {}
        }
      ]
    },
    {
      "cell_type": "code",
      "source": [
        "#calculate award by year for each agency\n",
        "award_by_year_agency = ground_vehicles.groupby('Contracting Agency')['Awarded Amount'].apply(lambda x: x.value_counts()).nlargest(5)\n",
        "print(award_by_year_agency)"
      ],
      "metadata": {
        "colab": {
          "base_uri": "https://localhost:8080/"
        },
        "id": "S6CXdxlG9Z8f",
        "outputId": "ee64029e-9297-48f1-edcb-569483bc3d99"
      },
      "execution_count": null,
      "outputs": [
        {
          "output_type": "stream",
          "name": "stdout",
          "text": [
            "Contracting Agency                                   \n",
            "US Department of Defense (DoD)          0.000000         3458\n",
            "                                        541860.341374     977\n",
            "US Department of Veterans Affairs (VA)  10000.000000      324\n",
            "                                        4414.520000       294\n",
            "                                        0.000000          256\n",
            "Name: Awarded Amount, dtype: int64\n"
          ]
        }
      ]
    },
    {
      "cell_type": "code",
      "source": [
        "#calculated vendors who had the most awards granted to them\n",
        "count_by_vendor = ground_vehicles.groupby('Vendor  Name')['Award Number (PIID)'].count().nlargest(5)\n",
        "print(count_by_vendor)"
      ],
      "metadata": {
        "colab": {
          "base_uri": "https://localhost:8080/"
        },
        "collapsed": true,
        "id": "uoyIrKcxAu_7",
        "outputId": "20dba771-caed-45bf-9a40-7b33a4fb5d39"
      },
      "execution_count": null,
      "outputs": [
        {
          "output_type": "stream",
          "name": "stdout",
          "text": [
            "Vendor  Name\n",
            "Howmedica Osteonics Corp.             32953\n",
            "Beacon Point Associates LLC            2806\n",
            "Stryker Corporation                    2252\n",
            "Physio-Control, Inc.                   1608\n",
            "General Dynamics Land Systems Inc.     1204\n",
            "Name: Award Number (PIID), dtype: int64\n"
          ]
        }
      ]
    },
    {
      "cell_type": "code",
      "source": [
        "#top vendors for each city\n",
        "top_vendors_by_city = ground_vehicles.groupby('Place of Performance City')['Vendor  Name'].apply(lambda x: x.value_counts())\n",
        "print(top_vendors_by_city)"
      ],
      "metadata": {
        "colab": {
          "base_uri": "https://localhost:8080/"
        },
        "id": "b7kMwqr7HZ80",
        "outputId": "cdd3a504-0fce-4001-8f36-5a9681cad42b"
      },
      "execution_count": null,
      "outputs": [
        {
          "output_type": "stream",
          "name": "stdout",
          "text": [
            "Place of Performance City                                      \n",
            "Aberdeen                   Joint Research and Development, Inc.      4\n",
            "                           H Squared, Inc.                           3\n",
            "                           Quantico Tactical Incorporated            3\n",
            "                           Howmedica Osteonics Corp.                 1\n",
            "                           General Dynamics Land Systems Inc.        1\n",
            "                                                                  ... \n",
            "York                       Bae Systems Land & Armaments L.P.       149\n",
            "Yuma                       Barge/Emersion Joint Venture             10\n",
            "                           Aec Emersion Joint Venture                2\n",
            "                           Physio-Control, Inc.                      1\n",
            "Zuni                       Stryker Corporation                      14\n",
            "Name: Vendor  Name, Length: 2376, dtype: int64\n"
          ]
        }
      ]
    },
    {
      "cell_type": "code",
      "source": [
        "#top 5 vendors for each city\n",
        "top_5_vendors_by_city = ground_vehicles.groupby('Place of Performance City')['Vendor  Name'].apply(lambda x: x.value_counts()).nlargest(5)\n",
        "print(top_5_vendors_by_city)"
      ],
      "metadata": {
        "colab": {
          "base_uri": "https://localhost:8080/"
        },
        "id": "bLxGKMDKLDB4",
        "outputId": "dbd9195f-aa99-4f1d-ea96-4b3417375c4e"
      },
      "execution_count": null,
      "outputs": [
        {
          "output_type": "stream",
          "name": "stdout",
          "text": [
            "Place of Performance City                                    \n",
            "Mahwah                     Howmedica Osteonics Corp.             27842\n",
            "Cape Coral                 Beacon Point Associates LLC            2100\n",
            "Redmond                    Physio-Control, Inc.                   1223\n",
            "Sterling Heights           General Dynamics Land Systems Inc.     1064\n",
            "Portage                    Stryker Corporation                     880\n",
            "Name: Vendor  Name, dtype: int64\n"
          ]
        }
      ]
    },
    {
      "cell_type": "code",
      "source": [
        "#Products and Services by FY\n",
        "psc_name_count = ground_vehicles.groupby('Fiscal Year')['PSC Name'].count()\n",
        "print(psc_name_count)"
      ],
      "metadata": {
        "colab": {
          "base_uri": "https://localhost:8080/"
        },
        "id": "oVzO9FMw1yo2",
        "outputId": "0169de5a-d153-4c60-de3f-8115ef962aaa"
      },
      "execution_count": null,
      "outputs": [
        {
          "output_type": "stream",
          "name": "stdout",
          "text": [
            "Fiscal Year\n",
            "2016    11244\n",
            "2017    12249\n",
            "2018    10295\n",
            "2019     7819\n",
            "2020     6747\n",
            "2021     5277\n",
            "Name: PSC Name, dtype: int64\n"
          ]
        }
      ]
    },
    {
      "cell_type": "code",
      "source": [
        "import matplotlib.pyplot as plt\n",
        "plt.bar(psc_name_count.index, psc_name_count.values)\n",
        "plt.xlabel('Fiscal Year')\n",
        "plt.ylabel('PSC Name Count')\n",
        "plt.title('PSC Name Count by Fiscal Year')\n",
        "plt.show()"
      ],
      "metadata": {
        "colab": {
          "base_uri": "https://localhost:8080/",
          "height": 472
        },
        "id": "5uBq7p1-2K5-",
        "outputId": "17f0219a-1acd-455f-84f0-624fe308e11a"
      },
      "execution_count": null,
      "outputs": [
        {
          "output_type": "display_data",
          "data": {
            "text/plain": [
              "<Figure size 640x480 with 1 Axes>"
            ],
            "image/png": "[encoded data removed]"
          },
          "metadata": {}
        }
      ]
    },
    {
      "cell_type": "code",
      "source": [
        "#Overview of Products and Services (PCS) and Amount Awarded\n",
        "min_of_psc_awards = ground_vehicles.groupby('PSC Name')['Awarded Amount'].min().nlargest(10)\n",
        "print(min_of_psc_awards)"
      ],
      "metadata": {
        "colab": {
          "base_uri": "https://localhost:8080/"
        },
        "id": "g5_CmWzZinez",
        "outputId": "00e7b1e0-b573-488a-f635-2003e1beeaa8"
      },
      "execution_count": null,
      "outputs": [
        {
          "output_type": "stream",
          "name": "stdout",
          "text": [
            "PSC Name\n",
            "(6120) TRANSFORMERS: DISTRIBUTION AND POWER STATION                                 8429618.13\n",
            "(L099) TECHNICAL REPRESENTATIVE- MISCELLANEOUS                                      7117713.20\n",
            "(3120) BEARINGS, PLAIN, UNMOUNTED                                                   5253000.00\n",
            "(Z2PD) REPAIR OR ALTERATION OF WASTE TREATMENT AND STORAGE FACILITIES               3156708.00\n",
            "(AC67) R&D- DEFENSE SYSTEM: ELECTRONICS/COMMUNICATION EQUIPMENT (COMMERCIALIZED)    2000000.00\n",
            "(5945) RELAYS AND SOLENOIDS                                                         1018400.00\n",
            "(Y1EE) CONSTRUCTION OF TANK AUTOMOTIVE FACILITIES                                   1010777.77\n",
            "(R413) SUPPORT- PROFESSIONAL: SPECIFICATIONS DEVELOPMENT                             894972.87\n",
            "(5977) ELECTRICAL CONTACT BRUSHES AND ELECTRODES                                     842010.00\n",
            "(6720) CAMERAS, STILL PICTURE                                                        710841.96\n",
            "Name: Awarded Amount, dtype: float64\n"
          ]
        }
      ]
    },
    {
      "cell_type": "code",
      "source": [
        "#Overview of Products and Services (PCS)\n",
        "max_of_psc_awards = ground_vehicles.groupby('PSC Name')['Awarded Amount'].max().nlargest(10)\n",
        "print(max_of_psc_awards)"
      ],
      "metadata": {
        "colab": {
          "base_uri": "https://localhost:8080/"
        },
        "id": "v7ZWpV5ClEIA",
        "outputId": "e7e400bf-7178-40e6-b3ce-a58743c9bbf0"
      },
      "execution_count": null,
      "outputs": [
        {
          "output_type": "stream",
          "name": "stdout",
          "text": [
            "PSC Name\n",
            "(2355) COMBAT, ASSAULT, AND TACTICAL VEHICLES, WHEELED                    8.369535e+09\n",
            "(2350) COMBAT, ASSAULT, AND TACTICAL VEHICLES, TRACKED                    8.047158e+09\n",
            "(R425) SUPPORT- PROFESSIONAL: ENGINEERING/TECHNICAL                       1.320884e+09\n",
            "(2320) TRUCKS AND TRUCK TRACTORS, WHEELED                                 9.066901e+08\n",
            "(2520) VEHICULAR POWER TRANSMISSION COMPONENTS                            8.057940e+08\n",
            "(AC26) R&D- DEFENSE SYSTEM: MISSILE/SPACE SYSTEMS (MANAGEMENT/SUPPORT)    6.578038e+08\n",
            "(1550) UNMANNED AIRCRAFT                                                  5.858466e+08\n",
            "(1925) SPECIAL SERVICE VESSELS                                            4.990814e+08\n",
            "(AC41) R&D- DEFENSE SYSTEM: TANK/AUTOMOTIVE (BASIC RESEARCH)              4.170296e+08\n",
            "(M1GZ) OPERATION OF OTHER WAREHOUSE BUILDINGS                             3.445560e+08\n",
            "Name: Awarded Amount, dtype: float64\n"
          ]
        }
      ]
    }
  ]
}